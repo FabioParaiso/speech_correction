{
 "cells": [
  {
   "cell_type": "markdown",
   "id": "af6026d0-981d-46bf-a2a4-2da7521811d9",
   "metadata": {},
   "source": [
    "# Explore audio sampling rate\n",
    "\n",
    "**Author:** Fábio Paraíso\n",
    "\n",
    "**Achievement:** Evaluated all the audio files sampling rates to see if all the file were equal and developed a cycle to standardize the sampling rates.\n",
    "\n",
    "\n",
    "## Introduction\n",
    "\n",
    "In this notebook, I evaluate what are the sampling rates of all the audio files. By doing this I can verify if some standardizationd of the sampling rate is need to uniformize the data.\n",
    "\n",
    "Most of this evaluation is based on this [post](https://towardsdatascience.com/audio-deep-learning-made-simple-sound-classification-step-by-step-cebc936bbe5)."
   ]
  },
  {
   "cell_type": "code",
   "execution_count": 1,
   "id": "dbef3cad-1026-4e19-ac9c-f1d89a7b351e",
   "metadata": {},
   "outputs": [
    {
     "name": "stdout",
     "output_type": "stream",
     "text": [
      "Last updated: 2021-07-12T09:42:09.016326+01:00\n",
      "\n",
      "Python implementation: CPython\n",
      "Python version       : 3.9.5\n",
      "IPython version      : 7.25.0\n",
      "\n",
      "Compiler    : MSC v.1928 64 bit (AMD64)\n",
      "OS          : Windows\n",
      "Release     : 10\n",
      "Machine     : AMD64\n",
      "Processor   : Intel64 Family 6 Model 60 Stepping 3, GenuineIntel\n",
      "CPU cores   : 4\n",
      "Architecture: 64bit\n",
      "\n"
     ]
    }
   ],
   "source": [
    "%load_ext watermark\n",
    "%watermark"
   ]
  },
  {
   "cell_type": "markdown",
   "id": "b7b99ec4-33d2-4ae6-9dc6-b753ff614268",
   "metadata": {},
   "source": [
    "### Import modules"
   ]
  },
  {
   "cell_type": "code",
   "execution_count": 2,
   "id": "991c8df7-fb03-47d3-b19e-f3ed9e524995",
   "metadata": {},
   "outputs": [],
   "source": [
    "import os\n",
    "\n",
    "import pandas as pd\n",
    "from torchaudio import transforms\n",
    "import torch\n",
    "\n",
    "from speech import data"
   ]
  },
  {
   "cell_type": "markdown",
   "id": "eb490993-3f33-4879-82bf-4d3d5fa485ab",
   "metadata": {},
   "source": [
    "### Load the metadata"
   ]
  },
  {
   "cell_type": "code",
   "execution_count": 3,
   "id": "3d9fe3da-ef6a-449a-80e1-9b1386e534d8",
   "metadata": {},
   "outputs": [],
   "source": [
    "metadata_file = '../../data/UrbanSound8K/metadata/UrbanSound8K.csv'\n",
    "metadata_df = pd.read_csv(metadata_file)"
   ]
  },
  {
   "cell_type": "code",
   "execution_count": 4,
   "id": "1b1b9db6-b9b8-4a42-8c0e-5bbb9e5dddbb",
   "metadata": {},
   "outputs": [
    {
     "data": {
      "text/html": [
       "<div>\n",
       "<style scoped>\n",
       "    .dataframe tbody tr th:only-of-type {\n",
       "        vertical-align: middle;\n",
       "    }\n",
       "\n",
       "    .dataframe tbody tr th {\n",
       "        vertical-align: top;\n",
       "    }\n",
       "\n",
       "    .dataframe thead th {\n",
       "        text-align: right;\n",
       "    }\n",
       "</style>\n",
       "<table border=\"1\" class=\"dataframe\">\n",
       "  <thead>\n",
       "    <tr style=\"text-align: right;\">\n",
       "      <th></th>\n",
       "      <th>slice_file_name</th>\n",
       "      <th>fsID</th>\n",
       "      <th>start</th>\n",
       "      <th>end</th>\n",
       "      <th>salience</th>\n",
       "      <th>fold</th>\n",
       "      <th>classID</th>\n",
       "      <th>class</th>\n",
       "    </tr>\n",
       "  </thead>\n",
       "  <tbody>\n",
       "    <tr>\n",
       "      <th>0</th>\n",
       "      <td>100032-3-0-0.wav</td>\n",
       "      <td>100032</td>\n",
       "      <td>0.0</td>\n",
       "      <td>0.317551</td>\n",
       "      <td>1</td>\n",
       "      <td>5</td>\n",
       "      <td>3</td>\n",
       "      <td>dog_bark</td>\n",
       "    </tr>\n",
       "    <tr>\n",
       "      <th>1</th>\n",
       "      <td>100263-2-0-117.wav</td>\n",
       "      <td>100263</td>\n",
       "      <td>58.5</td>\n",
       "      <td>62.500000</td>\n",
       "      <td>1</td>\n",
       "      <td>5</td>\n",
       "      <td>2</td>\n",
       "      <td>children_playing</td>\n",
       "    </tr>\n",
       "    <tr>\n",
       "      <th>2</th>\n",
       "      <td>100263-2-0-121.wav</td>\n",
       "      <td>100263</td>\n",
       "      <td>60.5</td>\n",
       "      <td>64.500000</td>\n",
       "      <td>1</td>\n",
       "      <td>5</td>\n",
       "      <td>2</td>\n",
       "      <td>children_playing</td>\n",
       "    </tr>\n",
       "    <tr>\n",
       "      <th>3</th>\n",
       "      <td>100263-2-0-126.wav</td>\n",
       "      <td>100263</td>\n",
       "      <td>63.0</td>\n",
       "      <td>67.000000</td>\n",
       "      <td>1</td>\n",
       "      <td>5</td>\n",
       "      <td>2</td>\n",
       "      <td>children_playing</td>\n",
       "    </tr>\n",
       "    <tr>\n",
       "      <th>4</th>\n",
       "      <td>100263-2-0-137.wav</td>\n",
       "      <td>100263</td>\n",
       "      <td>68.5</td>\n",
       "      <td>72.500000</td>\n",
       "      <td>1</td>\n",
       "      <td>5</td>\n",
       "      <td>2</td>\n",
       "      <td>children_playing</td>\n",
       "    </tr>\n",
       "  </tbody>\n",
       "</table>\n",
       "</div>"
      ],
      "text/plain": [
       "      slice_file_name    fsID  start        end  salience  fold  classID  \\\n",
       "0    100032-3-0-0.wav  100032    0.0   0.317551         1     5        3   \n",
       "1  100263-2-0-117.wav  100263   58.5  62.500000         1     5        2   \n",
       "2  100263-2-0-121.wav  100263   60.5  64.500000         1     5        2   \n",
       "3  100263-2-0-126.wav  100263   63.0  67.000000         1     5        2   \n",
       "4  100263-2-0-137.wav  100263   68.5  72.500000         1     5        2   \n",
       "\n",
       "              class  \n",
       "0          dog_bark  \n",
       "1  children_playing  \n",
       "2  children_playing  \n",
       "3  children_playing  \n",
       "4  children_playing  "
      ]
     },
     "execution_count": 4,
     "metadata": {},
     "output_type": "execute_result"
    }
   ],
   "source": [
    "metadata_df.head()"
   ]
  },
  {
   "cell_type": "markdown",
   "id": "e1058195-16a7-4dc3-a1c6-2e8505f00afc",
   "metadata": {},
   "source": [
    "Since for this case I'm only studying the sampling rate for all the audio files, I need to define the audio file path using the fold and the file name data."
   ]
  },
  {
   "cell_type": "code",
   "execution_count": 5,
   "id": "296160a2-f509-4bb8-b909-52cdabe563ea",
   "metadata": {},
   "outputs": [],
   "source": [
    "metadata_df['path'] = 'fold' + metadata_df['fold'].astype(str) + '/' + metadata_df['slice_file_name']"
   ]
  },
  {
   "cell_type": "markdown",
   "id": "cfbd2ba5-68f8-40f8-81ae-853925a314c0",
   "metadata": {},
   "source": [
    "After creating the file I gather only the necessary data which in this case is the audio path and the type of sound that it is playing."
   ]
  },
  {
   "cell_type": "code",
   "execution_count": 6,
   "id": "3070120c-baef-4f80-b1c8-ad618e137b48",
   "metadata": {},
   "outputs": [],
   "source": [
    "audio = metadata_df[['path', 'classID']]"
   ]
  },
  {
   "cell_type": "markdown",
   "id": "349eeb23-4fd1-4a86-a4e7-921855942bd2",
   "metadata": {},
   "source": [
    "I then read all the audio files and get the sampling rate of each one."
   ]
  },
  {
   "cell_type": "code",
   "execution_count": 21,
   "id": "c9b74fcb-ccd3-4d58-960c-a2dda9d5f9b0",
   "metadata": {},
   "outputs": [],
   "source": [
    "audio_folder = '../../data/UrbanSound8K/audio/'\n",
    "sampling_rate = []\n",
    "\n",
    "for audio_path in audio.path:\n",
    "    audio_full_path = os.path.join(audio_folder, audio_path)\n",
    "    _, sr = data.load_audio(audio_full_path)\n",
    "    sampling_rate.append(sr)\n",
    "    \n",
    "audio = audio.assign(sampling_rate = sampling_rate)"
   ]
  },
  {
   "cell_type": "code",
   "execution_count": 23,
   "id": "d6bb8457-91ef-4460-b3ae-208a747bf721",
   "metadata": {},
   "outputs": [
    {
     "data": {
      "text/plain": [
       "44100     5370\n",
       "48000     2502\n",
       "96000      610\n",
       "24000       82\n",
       "16000       45\n",
       "22050       44\n",
       "11025       39\n",
       "192000      17\n",
       "8000        12\n",
       "11024        7\n",
       "32000        4\n",
       "Name: sampling_rate, dtype: int64"
      ]
     },
     "execution_count": 23,
     "metadata": {},
     "output_type": "execute_result"
    }
   ],
   "source": [
    "audio.sampling_rate.value_counts()"
   ]
  },
  {
   "cell_type": "markdown",
   "id": "d577d0d1-4555-4972-a4a7-c06ef71f74bb",
   "metadata": {},
   "source": [
    "Has expected not all the files have the same sample rate size. However, for feeding this audio files it is necessary to standardize the salmpling rate. <p>\n",
    "To do this I test using the audio files with the bigger sampling rates (192000)."
   ]
  },
  {
   "cell_type": "code",
   "execution_count": 50,
   "id": "95525ea1-d378-4246-aadb-02abc36c9c74",
   "metadata": {},
   "outputs": [
    {
     "name": "stdout",
     "output_type": "stream",
     "text": [
      "(tensor([[-6.7109e-06, -4.3835e-03, -8.4153e-03,  ..., -2.4607e-02,\n",
      "         -2.4959e-02, -2.5384e-03],\n",
      "        [-6.7109e-06, -4.3835e-03, -8.4153e-03,  ..., -2.4607e-02,\n",
      "         -2.4959e-02, -2.5384e-03]]), 44100)\n"
     ]
    }
   ],
   "source": [
    "audio_sample = audio.query('sampling_rate == 192000')\n",
    "base_sampling_rate = 44100\n",
    "new_sig = []\n",
    "\n",
    "for audio_path in audio_sample.path:\n",
    "    resig_list = []\n",
    "    audio_full_path = os.path.join(audio_folder, audio_path)\n",
    "    sig, sr = data.load_audio(audio_full_path)\n",
    "\n",
    "    sig_one = transforms.Resample(sr, base_sampling_rate)(sig[:1,:])\n",
    "    if sig.shape[0] > 1:\n",
    "        sig_two = transforms.Resample(sr, base_sampling_rate)(sig[1:,:])\n",
    "        new_sig = torch.cat((sig_one, sig_two))\n",
    "\n",
    "((new_sig, base_sampling_rate))"
   ]
  },
  {
   "cell_type": "markdown",
   "id": "428535c8-c29e-4b30-904d-80fd886f3768",
   "metadata": {},
   "source": [
    "Now I get the audio sampling rate standerdized and can use it in the next phases."
   ]
  }
 ],
 "metadata": {
  "kernelspec": {
   "display_name": "speech_correction",
   "language": "python",
   "name": "speech_correction"
  },
  "language_info": {
   "codemirror_mode": {
    "name": "ipython",
    "version": 3
   },
   "file_extension": ".py",
   "mimetype": "text/x-python",
   "name": "python",
   "nbconvert_exporter": "python",
   "pygments_lexer": "ipython3",
   "version": "3.9.5"
  }
 },
 "nbformat": 4,
 "nbformat_minor": 5
}
